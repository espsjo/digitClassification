{
 "cells": [
  {
   "cell_type": "code",
   "execution_count": 2,
   "metadata": {},
   "outputs": [],
   "source": [
    "#Importing various models needed\n",
    "from sklearn.ensemble import RandomForestClassifier\n",
    "from sklearn.metrics import accuracy_score\n",
    "import mnist\n",
    "import matplotlib.pyplot as plt\n",
    "%matplotlib inline"
   ]
  },
  {
   "cell_type": "code",
   "execution_count": 12,
   "metadata": {},
   "outputs": [],
   "source": [
    "train_X = mnist.train_images()\n",
    "train_Y = mnist.train_labels()\n",
    "test_X = mnist.test_images()\n",
    "test_Y = mnist.test_labels()"
   ]
  },
  {
   "cell_type": "code",
   "execution_count": 13,
   "metadata": {},
   "outputs": [
    {
     "data": {
      "image/png": "[encoded data removed]",
      "text/plain": [
       "<Figure size 576x576 with 3 Axes>"
      ]
     },
     "metadata": {
      "needs_background": "light"
     },
     "output_type": "display_data"
    }
   ],
   "source": [
    "#Showing sample training data with label\n",
    "from random import sample\n",
    "ints = sample(range(0,60000),3)\n",
    "fig = plt.figure(figsize=(8, 8))\n",
    "for i in range(1,4):\n",
    "    fig.add_subplot(1,3,i)\n",
    "    plt.imshow(train_X[ints[i-1]], cmap='gray')\n",
    "    plt.xlabel(f\"label={train_Y[ints[i-1]]}, nr={ints[i-1]}\")\n",
    "plt.show()"
   ]
  },
  {
   "cell_type": "code",
   "execution_count": 14,
   "metadata": {},
   "outputs": [],
   "source": [
    "#Reshaping so that scikit-learn can use it\n",
    "nsamples, nx, ny = train_X.shape\n",
    "d2_train_X = train_X.reshape((nsamples,nx*ny))"
   ]
  },
  {
   "cell_type": "code",
   "execution_count": 15,
   "metadata": {},
   "outputs": [
    {
     "data": {
      "text/plain": [
       "RandomForestClassifier(random_state=50)"
      ]
     },
     "execution_count": 15,
     "metadata": {},
     "output_type": "execute_result"
    }
   ],
   "source": [
    "#Using Random Forest from scikit-learn to create classifier \n",
    "rf_clf = RandomForestClassifier(random_state=50)\n",
    "rf_clf.fit(d2_train_X, train_Y)"
   ]
  },
  {
   "cell_type": "code",
   "execution_count": 16,
   "metadata": {},
   "outputs": [],
   "source": [
    "#Reshaping test set\n",
    "nsamples, nx, ny = test_X.shape\n",
    "d2_test_X = test_X.reshape((nsamples,nx*ny))"
   ]
  },
  {
   "cell_type": "code",
   "execution_count": 17,
   "metadata": {},
   "outputs": [
    {
     "name": "stdout",
     "output_type": "stream",
     "text": [
      "Accuracy on test set was: 0.9692\n"
     ]
    }
   ],
   "source": [
    "#Predicting the digits in the test set\n",
    "pred = rf_clf.predict(d2_test_X)\n",
    "acc = accuracy_score(test_Y,pred)\n",
    "print(f\"Accuracy on test set was: {acc}\")"
   ]
  },
  {
   "cell_type": "code",
   "execution_count": 20,
   "metadata": {},
   "outputs": [
    {
     "name": "stdout",
     "output_type": "stream",
     "text": [
      "Confusion matrix:\n",
      "[[ 970    0    0    0    0    1    4    1    4    0]\n",
      " [   0 1123    3    2    0    2    3    1    1    0]\n",
      " [   6    0 1000    4    3    1    4    8    6    0]\n",
      " [   0    0   11  968    1    9    0   10    8    3]\n",
      " [   2    0    0    0  951    1    7    1    3   17]\n",
      " [   3    0    1   12    2  863    4    2    4    1]\n",
      " [   7    3    1    0    4    3  938    0    2    0]\n",
      " [   1    3   18    2    2    0    0  988    2   12]\n",
      " [   5    0    5    4    6    8    3    4  929   10]\n",
      " [   9    5    1   12   10    3    1    2    4  962]]\n",
      "\n",
      "Classification report:\n",
      "              precision    recall  f1-score   support\n",
      "\n",
      "           0       0.97      0.99      0.98       980\n",
      "           1       0.99      0.99      0.99      1135\n",
      "           2       0.96      0.97      0.97      1032\n",
      "           3       0.96      0.96      0.96      1010\n",
      "           4       0.97      0.97      0.97       982\n",
      "           5       0.97      0.97      0.97       892\n",
      "           6       0.97      0.98      0.98       958\n",
      "           7       0.97      0.96      0.97      1028\n",
      "           8       0.96      0.95      0.96       974\n",
      "           9       0.96      0.95      0.96      1009\n",
      "\n",
      "    accuracy                           0.97     10000\n",
      "   macro avg       0.97      0.97      0.97     10000\n",
      "weighted avg       0.97      0.97      0.97     10000\n",
      "\n"
     ]
    }
   ],
   "source": [
    "#Showing the confusion matrix\n",
    "from sklearn.metrics import confusion_matrix, classification_report\n",
    "print(\"Confusion matrix:\")\n",
    "print(confusion_matrix(test_Y, pred))\n",
    "print(f\"\\nClassification report:\")\n",
    "print(classification_report(test_Y, pred))"
   ]
  },
  {
   "cell_type": "code",
   "execution_count": 21,
   "metadata": {},
   "outputs": [
    {
     "name": "stdout",
     "output_type": "stream",
     "text": [
      "Our test-picture:\n"
     ]
    },
    {
     "data": {
      "image/png": "[encoded data removed]",
      "text/plain": [
       "<Figure size 144x144 with 1 Axes>"
      ]
     },
     "metadata": {
      "needs_background": "light"
     },
     "output_type": "display_data"
    },
    {
     "name": "stdout",
     "output_type": "stream",
     "text": [
      "The classifier predicts that this digit is: 7\n"
     ]
    }
   ],
   "source": [
    "#Showing a test number\n",
    "from random import randint\n",
    "n=randint(0,10000)\n",
    "test = test_X[n]\n",
    "fig = plt.figure(figsize=(2,2))\n",
    "plt.imshow(test, cmap=\"gray\")\n",
    "plt.xlabel(f\"label={test_Y[n]}, nr={n}\")\n",
    "print(\"Our test-picture:\")\n",
    "plt.show()\n",
    "\n",
    "#Let the classifier predict what number it is\n",
    "nx, ny = test.shape\n",
    "test = test.reshape((1,nx*ny))\n",
    "pred = rf_clf.predict(test)\n",
    "print(f\"The classifier predicts that this digit is: {pred[0]}\")"
   ]
  },
  {
   "cell_type": "code",
   "execution_count": null,
   "metadata": {},
   "outputs": [],
   "source": []
  }
 ],
 "metadata": {
  "kernelspec": {
   "display_name": "Python 3.9.12 ('base')",
   "language": "python",
   "name": "python3"
  },
  "language_info": {
   "codemirror_mode": {
    "name": "ipython",
    "version": 3
   },
   "file_extension": ".py",
   "mimetype": "text/x-python",
   "name": "python",
   "nbconvert_exporter": "python",
   "pygments_lexer": "ipython3",
   "version": "3.9.12"
  },
  "orig_nbformat": 4,
  "vscode": {
   "interpreter": {
    "hash": "24cd5c2f30858a0d9bc1d12d892ca26d1a556e72a0d5b4289d39a1c46964c99a"
   }
  }
 },
 "nbformat": 4,
 "nbformat_minor": 2
}
